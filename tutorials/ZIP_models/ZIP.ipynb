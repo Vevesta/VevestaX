{
 "cells": [
  {
   "cell_type": "markdown",
   "id": "4e0263e9",
   "metadata": {},
   "source": [
    "## Import the Libraries"
   ]
  },
  {
   "cell_type": "code",
   "execution_count": 1,
   "id": "7f81d3da",
   "metadata": {},
   "outputs": [],
   "source": [
    "import pandas as pd\n",
    "import numpy as  np\n",
    "from matplotlib import pyplot as plt\n",
    "from vevestaX import vevesta as v"
   ]
  },
  {
   "cell_type": "markdown",
   "id": "44cd2768",
   "metadata": {},
   "source": [
    "## Load the Dataset"
   ]
  },
  {
   "cell_type": "code",
   "execution_count": 2,
   "id": "3488495d",
   "metadata": {},
   "outputs": [
    {
     "data": {
      "text/html": [
       "<div>\n",
       "<style scoped>\n",
       "    .dataframe tbody tr th:only-of-type {\n",
       "        vertical-align: middle;\n",
       "    }\n",
       "\n",
       "    .dataframe tbody tr th {\n",
       "        vertical-align: top;\n",
       "    }\n",
       "\n",
       "    .dataframe thead th {\n",
       "        text-align: right;\n",
       "    }\n",
       "</style>\n",
       "<table border=\"1\" class=\"dataframe\">\n",
       "  <thead>\n",
       "    <tr style=\"text-align: right;\">\n",
       "      <th></th>\n",
       "      <th>LIVE_BAIT</th>\n",
       "      <th>CAMPER</th>\n",
       "      <th>PERSONS</th>\n",
       "      <th>CHILDREN</th>\n",
       "      <th>FISH_COUNT</th>\n",
       "    </tr>\n",
       "  </thead>\n",
       "  <tbody>\n",
       "    <tr>\n",
       "      <th>0</th>\n",
       "      <td>0</td>\n",
       "      <td>0</td>\n",
       "      <td>1</td>\n",
       "      <td>0</td>\n",
       "      <td>0</td>\n",
       "    </tr>\n",
       "    <tr>\n",
       "      <th>1</th>\n",
       "      <td>1</td>\n",
       "      <td>1</td>\n",
       "      <td>1</td>\n",
       "      <td>0</td>\n",
       "      <td>0</td>\n",
       "    </tr>\n",
       "    <tr>\n",
       "      <th>2</th>\n",
       "      <td>1</td>\n",
       "      <td>0</td>\n",
       "      <td>1</td>\n",
       "      <td>0</td>\n",
       "      <td>0</td>\n",
       "    </tr>\n",
       "    <tr>\n",
       "      <th>3</th>\n",
       "      <td>1</td>\n",
       "      <td>1</td>\n",
       "      <td>2</td>\n",
       "      <td>1</td>\n",
       "      <td>0</td>\n",
       "    </tr>\n",
       "    <tr>\n",
       "      <th>4</th>\n",
       "      <td>1</td>\n",
       "      <td>0</td>\n",
       "      <td>1</td>\n",
       "      <td>0</td>\n",
       "      <td>1</td>\n",
       "    </tr>\n",
       "    <tr>\n",
       "      <th>...</th>\n",
       "      <td>...</td>\n",
       "      <td>...</td>\n",
       "      <td>...</td>\n",
       "      <td>...</td>\n",
       "      <td>...</td>\n",
       "    </tr>\n",
       "    <tr>\n",
       "      <th>245</th>\n",
       "      <td>1</td>\n",
       "      <td>1</td>\n",
       "      <td>2</td>\n",
       "      <td>0</td>\n",
       "      <td>0</td>\n",
       "    </tr>\n",
       "    <tr>\n",
       "      <th>246</th>\n",
       "      <td>1</td>\n",
       "      <td>1</td>\n",
       "      <td>4</td>\n",
       "      <td>3</td>\n",
       "      <td>0</td>\n",
       "    </tr>\n",
       "    <tr>\n",
       "      <th>247</th>\n",
       "      <td>1</td>\n",
       "      <td>1</td>\n",
       "      <td>2</td>\n",
       "      <td>1</td>\n",
       "      <td>0</td>\n",
       "    </tr>\n",
       "    <tr>\n",
       "      <th>248</th>\n",
       "      <td>1</td>\n",
       "      <td>1</td>\n",
       "      <td>3</td>\n",
       "      <td>2</td>\n",
       "      <td>0</td>\n",
       "    </tr>\n",
       "    <tr>\n",
       "      <th>249</th>\n",
       "      <td>1</td>\n",
       "      <td>1</td>\n",
       "      <td>2</td>\n",
       "      <td>1</td>\n",
       "      <td>0</td>\n",
       "    </tr>\n",
       "  </tbody>\n",
       "</table>\n",
       "<p>250 rows × 5 columns</p>\n",
       "</div>"
      ],
      "text/plain": [
       "     LIVE_BAIT  CAMPER  PERSONS  CHILDREN  FISH_COUNT\n",
       "0            0       0        1         0           0\n",
       "1            1       1        1         0           0\n",
       "2            1       0        1         0           0\n",
       "3            1       1        2         1           0\n",
       "4            1       0        1         0           1\n",
       "..         ...     ...      ...       ...         ...\n",
       "245          1       1        2         0           0\n",
       "246          1       1        4         3           0\n",
       "247          1       1        2         1           0\n",
       "248          1       1        3         2           0\n",
       "249          1       1        2         1           0\n",
       "\n",
       "[250 rows x 5 columns]"
      ]
     },
     "execution_count": 2,
     "metadata": {},
     "output_type": "execute_result"
    }
   ],
   "source": [
    "df=pd.read_csv('fish.csv')\n",
    "df"
   ]
  },
  {
   "cell_type": "code",
   "execution_count": 3,
   "id": "d54a2656",
   "metadata": {},
   "outputs": [
    {
     "data": {
      "text/plain": [
       "['LIVE_BAIT', 'CAMPER', 'PERSONS', 'CHILDREN', 'FISH_COUNT']"
      ]
     },
     "execution_count": 3,
     "metadata": {},
     "output_type": "execute_result"
    }
   ],
   "source": [
    "#Create an Experiment Object\n",
    "V=v.Experiment()\n",
    "\n",
    "#In order to track the features/labels Vevesta provide us with a data sourcing function which help us to extract the features/labels used in our data set.\n",
    "V.ds=df\n",
    "#V.dataSourcing=df\n",
    "V.ds"
   ]
  },
  {
   "cell_type": "code",
   "execution_count": 4,
   "id": "ab91347a",
   "metadata": {
    "scrolled": true
   },
   "outputs": [
    {
     "data": {
      "image/png": "[encoded data removed]",
      "text/plain": [
       "<Figure size 1080x360 with 1 Axes>"
      ]
     },
     "metadata": {
      "needs_background": "light"
     },
     "output_type": "display_data"
    }
   ],
   "source": [
    "plt.figure(figsize=(15,5))\n",
    "plt.bar(df.FISH_COUNT.value_counts().index,df.FISH_COUNT.value_counts(),color='black')\n",
    "plt.xlabel('No. of fishes caught')\n",
    "plt.ylabel('No. of Fishermans who had caught the repective no. of fishes')\n",
    "plt.show()"
   ]
  },
  {
   "cell_type": "markdown",
   "id": "32fd392d",
   "metadata": {},
   "source": [
    "## Train_Test_Split"
   ]
  },
  {
   "cell_type": "code",
   "execution_count": 5,
   "id": "dc915adc",
   "metadata": {},
   "outputs": [
    {
     "name": "stdout",
     "output_type": "stream",
     "text": [
      "(200, 4)\n",
      "(200,)\n",
      "(50, 4)\n",
      "(50,)\n"
     ]
    }
   ],
   "source": [
    "from sklearn.model_selection import train_test_split\n",
    "train,test=train_test_split(df,test_size=0.2,random_state=42)\n",
    "x_train=train.drop(['FISH_COUNT'],axis=1)\n",
    "y_train=train['FISH_COUNT']\n",
    "x_test=test.drop(['FISH_COUNT'],axis=1)\n",
    "y_test=test['FISH_COUNT']\n",
    "print(x_train.shape)\n",
    "print(y_train.shape)\n",
    "print(x_test.shape)\n",
    "print(y_test.shape)"
   ]
  },
  {
   "cell_type": "markdown",
   "id": "f67dae74",
   "metadata": {},
   "source": [
    "## Fit the ZIP Model"
   ]
  },
  {
   "cell_type": "code",
   "execution_count": 6,
   "id": "ba7481fd",
   "metadata": {},
   "outputs": [
    {
     "name": "stdout",
     "output_type": "stream",
     "text": [
      "Optimization terminated successfully.\n",
      "         Current function value: 3.212861\n",
      "         Iterations: 26\n",
      "         Function evaluations: 29\n",
      "         Gradient evaluations: 29\n"
     ]
    },
    {
     "name": "stderr",
     "output_type": "stream",
     "text": [
      "c:\\users\\hp\\appdata\\local\\programs\\python\\python38\\lib\\site-packages\\statsmodels\\base\\model.py:604: ConvergenceWarning: Maximum Likelihood optimization failed to converge. Check mle_retvals\n",
      "  warnings.warn(\"Maximum Likelihood optimization failed to \"\n"
     ]
    }
   ],
   "source": [
    "import statsmodels.api as sm\n",
    "zip_training_results = sm.ZeroInflatedPoisson(endog=y_train, exog=x_train, exog_infl=x_train, inflation='logit').fit()"
   ]
  },
  {
   "cell_type": "code",
   "execution_count": 7,
   "id": "69290b5f",
   "metadata": {},
   "outputs": [],
   "source": [
    "zip_predictions = zip_training_results.predict(x_test,exog_infl=x_test)\n",
    "predicted_counts=np.round(zip_predictions)"
   ]
  },
  {
   "cell_type": "code",
   "execution_count": 8,
   "id": "539f9138",
   "metadata": {},
   "outputs": [
    {
     "name": "stdout",
     "output_type": "stream",
     "text": [
      "7.937253933193772\n"
     ]
    }
   ],
   "source": [
    "from sklearn.metrics import mean_squared_error as mse\n",
    "rmse=mse(predicted_counts,y_test,squared=False)\n",
    "print(rmse)"
   ]
  },
  {
   "cell_type": "code",
   "execution_count": 9,
   "id": "a00c0db0",
   "metadata": {
    "scrolled": true
   },
   "outputs": [
    {
     "data": {
      "image/png": "[encoded data removed]",
      "text/plain": [
       "<Figure size 360x360 with 1 Axes>"
      ]
     },
     "metadata": {
      "needs_background": "light"
     },
     "output_type": "display_data"
    }
   ],
   "source": [
    "fig = plt.figure(figsize=(5,5))\n",
    "fig.suptitle('Predicted versus Actual Values using the ZIP model')\n",
    "plt.scatter(predicted_counts,y_test)\n",
    "plt.xlabel('Predicted Values')\n",
    "plt.ylabel('Actual Values')\n",
    "plt.show()"
   ]
  },
  {
   "cell_type": "markdown",
   "id": "67cfb8bd",
   "metadata": {},
   "source": [
    "## Fit the Poisson Regressor Model"
   ]
  },
  {
   "cell_type": "code",
   "execution_count": 10,
   "id": "57a30d9f",
   "metadata": {},
   "outputs": [],
   "source": [
    "from sklearn.linear_model import PoissonRegressor"
   ]
  },
  {
   "cell_type": "code",
   "execution_count": 11,
   "id": "c5803a98",
   "metadata": {},
   "outputs": [
    {
     "data": {
      "text/plain": [
       "PoissonRegressor()"
      ]
     },
     "execution_count": 11,
     "metadata": {},
     "output_type": "execute_result"
    }
   ],
   "source": [
    "clf =PoissonRegressor()\n",
    "clf.fit(x_train,y_train)"
   ]
  },
  {
   "cell_type": "code",
   "execution_count": 12,
   "id": "b961432c",
   "metadata": {},
   "outputs": [
    {
     "data": {
      "text/plain": [
       "8.37973746605465"
      ]
     },
     "execution_count": 12,
     "metadata": {},
     "output_type": "execute_result"
    }
   ],
   "source": [
    "pred=clf.predict(x_test).round()\n",
    "rmse=mse(y_test,pred,squared=False)\n",
    "rmse"
   ]
  },
  {
   "cell_type": "code",
   "execution_count": 13,
   "id": "d1e09b84",
   "metadata": {},
   "outputs": [
    {
     "data": {
      "image/png": "[encoded data removed]",
      "text/plain": [
       "<Figure size 360x360 with 1 Axes>"
      ]
     },
     "metadata": {
      "needs_background": "light"
     },
     "output_type": "display_data"
    }
   ],
   "source": [
    "fig = plt.figure(figsize=(5,5))\n",
    "fig.suptitle('Predicted versus Actual Values using the Poisson model')\n",
    "plt.scatter(pred,y_test)\n",
    "plt.xlabel('Predicted Values')\n",
    "plt.ylabel('Actual Values')\n",
    "plt.show()"
   ]
  },
  {
   "cell_type": "markdown",
   "id": "cd6a3693",
   "metadata": {},
   "source": [
    "## Dump the model in the Excel Sheet"
   ]
  },
  {
   "cell_type": "code",
   "execution_count": 14,
   "id": "8aa488e2",
   "metadata": {},
   "outputs": [
    {
     "name": "stdout",
     "output_type": "stream",
     "text": [
      "Dumped the experiment in the file ZIP.xlsx\n",
      "Manage notes, codes and models in one single place by using our tool at https://www.vevesta.com?utm_source=vevestaX\n",
      "Dumped the experiment in the file vevesta.xlsx\n",
      "Wrote experiment to tool, Vevesta\n"
     ]
    }
   ],
   "source": [
    "#After running the dump or commit function for each run of the code.The features used, features engineered and the variables used in the experiments get logged into the excel file.\n",
    "\n",
    "V.dump(techniqueUsed='ZIP Model',filename=\"ZIP.xlsx\",message=\"Zero Inflated Poisson Model was used\",version=1)\n",
    "V.commit(techniqueUsed = \"Zip Model\", message=\"increased accuracy\", version=1, projectId=128, attachmentFlag=True)"
   ]
  }
 ],
 "metadata": {
  "kernelspec": {
   "display_name": "Python 3 (ipykernel)",
   "language": "python",
   "name": "python3"
  },
  "language_info": {
   "codemirror_mode": {
    "name": "ipython",
    "version": 3
   },
   "file_extension": ".py",
   "mimetype": "text/x-python",
   "name": "python",
   "nbconvert_exporter": "python",
   "pygments_lexer": "ipython3",
   "version": "3.8.0"
  }
 },
 "nbformat": 4,
 "nbformat_minor": 5
}
