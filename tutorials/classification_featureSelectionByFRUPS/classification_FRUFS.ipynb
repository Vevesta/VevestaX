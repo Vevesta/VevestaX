{
 "cells": [
  {
   "cell_type": "code",
   "execution_count": 1,
   "metadata": {},
   "outputs": [],
   "source": [
    "#Import libraries\n",
    "import math\n",
    "import numpy as np\n",
    "import pandas as pd\n",
    "from collections import Counter\n",
    "from sklearn.tree import DecisionTreeClassifier, DecisionTreeRegressor\n",
    "from sklearn.metrics import accuracy_score\n",
    "from sklearn.model_selection import KFold, StratifiedKFold\n",
    "import time\n",
    "from sklearn.cluster import KMeans\n",
    "from matplotlib.pyplot import figure\n",
    "from sklearn.metrics.cluster import normalized_mutual_info_score"
   ]
  },
  {
   "cell_type": "code",
   "execution_count": 2,
   "metadata": {},
   "outputs": [],
   "source": [
    "#Import FRUFS and vevestaX and create vevestaX object\n",
    "from FRUFS import FRUFS\n",
    "from vevestaX import vevesta as v\n",
    "V=v.Experiment()"
   ]
  },
  {
   "cell_type": "code",
   "execution_count": 3,
   "metadata": {},
   "outputs": [],
   "source": [
    "# Load the data into a dataframe\n",
    "df = pd.read_csv(\"wine.csv\")\n"
   ]
  },
  {
   "cell_type": "code",
   "execution_count": 4,
   "metadata": {},
   "outputs": [
    {
     "name": "stdout",
     "output_type": "stream",
     "text": [
      "Data shape:  (178, 13) Target Variable shape:  (178,)\n"
     ]
    }
   ],
   "source": [
    "# Split the data into input features and target variable\n",
    "data, Y = df.drop(['ID'], axis=1), df['ID'].values\n",
    "\n",
    "# Lets check out the shape of our data\n",
    "print(\"Data shape: \", data.shape, \"Target Variable shape: \", Y.shape)"
   ]
  },
  {
   "cell_type": "code",
   "execution_count": 5,
   "metadata": {},
   "outputs": [
    {
     "data": {
      "text/plain": [
       "Index(['Alcohol', 'Malic acid', ' Ash', 'Alcalinity of ash', 'Magnesium',\n",
       "       'Total phenols', 'Flavanoids', 'Nonflavanoid phenols',\n",
       "       'Proanthocyanins', 'Color intensity', 'Hue',\n",
       "       'OD280/OD315 of diluted wines', 'Proline  '],\n",
       "      dtype='object')"
      ]
     },
     "execution_count": 5,
     "metadata": {},
     "output_type": "execute_result"
    }
   ],
   "source": [
    "#extract the names of the features\n",
    "V.ds = data\n",
    "#print the names of the features\n",
    "V.ds"
   ]
  },
  {
   "cell_type": "code",
   "execution_count": 6,
   "metadata": {},
   "outputs": [],
   "source": [
    "\n",
    "#start the tracking scope of the variables\n",
    "V.start()\n",
    "num_classes = 2"
   ]
  },
  {
   "cell_type": "markdown",
   "metadata": {},
   "source": [
    "# Modelling with FRUFS"
   ]
  },
  {
   "cell_type": "code",
   "execution_count": 7,
   "metadata": {},
   "outputs": [
    {
     "name": "stderr",
     "output_type": "stream",
     "text": [
      "Progress bar: 100%|████████████████████████████████████████████████████████████████████████████████████████████████████████████████████████████████████████████████████████| 13/13 [00:03<00:00,  3.52it/s]\n",
      "Progress bar: 100%|███████████████████████████████████████████████████████████████████████████████████████████████████████████████████████████████████████████████████████| 13/13 [00:00<00:00, 637.20it/s]\n",
      "Progress bar: 100%|███████████████████████████████████████████████████████████████████████████████████████████████████████████████████████████████████████████████████████| 13/13 [00:00<00:00, 741.42it/s]\n",
      "Progress bar: 100%|███████████████████████████████████████████████████████████████████████████████████████████████████████████████████████████████████████████████████████| 13/13 [00:00<00:00, 608.51it/s]\n",
      "Progress bar: 100%|███████████████████████████████████████████████████████████████████████████████████████████████████████████████████████████████████████████████████████| 13/13 [00:00<00:00, 703.69it/s]"
     ]
    },
    {
     "name": "stdout",
     "output_type": "stream",
     "text": [
      "Score: 0.8611111111111112\n",
      "Score: 0.8055555555555556\n",
      "Score: 0.9444444444444444\n",
      "Score: 0.9428571428571428\n",
      "Score: 0.8571428571428571\n",
      "\n",
      "\n",
      "Average Accuracy:  0.8822222222222221\n",
      "\n",
      "\n",
      "Total Time Required (in seconds):  3.8049275875091553\n"
     ]
    },
    {
     "name": "stderr",
     "output_type": "stream",
     "text": [
      "\n"
     ]
    }
   ],
   "source": [
    "# We want to time our algorithm\n",
    "start = time.time()\n",
    "\n",
    "# Use KFold for understanding the performance of PyImpetus\n",
    "kfold = KFold(n_splits=5, random_state=27, shuffle=True)\n",
    "\n",
    "# This will hold all the accuracy scores\n",
    "scores = list()\n",
    "\n",
    "# Perform CV\n",
    "for train, test in kfold.split(data):\n",
    "    # Split data into train and test based on folds\n",
    "    x_train, x_test = data.iloc[train], data.iloc[test]\n",
    "    y_train, y_test = Y[train], Y[test]\n",
    "    \n",
    "    # Convert the data into numpy arrays\n",
    "    x_train, x_test = x_train.values, x_test.values\n",
    "    \n",
    "    seed = 27\n",
    "    \n",
    "    noOfFeaturesSelected=5\n",
    "    \n",
    "    # Initialize the FRUFS object with your supervised algorithm of choice\n",
    "    model = FRUFS(model_r=DecisionTreeRegressor(random_state=seed), k=noOfFeaturesSelected, n_jobs=-1, verbose=0, random_state=seed)\n",
    " \n",
    "    # Train the FRUFS model and use it to downsize your data\n",
    "    x_train = model.fit_transform(x_train)\n",
    "    x_test = model.transform(x_test)\n",
    "    \n",
    "    # Finally, classify on selected features\n",
    "    model_dt = DecisionTreeClassifier(random_state=27)\n",
    "    model_dt.fit(x_train, y_train)\n",
    "    preds = model_dt.predict(x_test)\n",
    "\n",
    "    # We are going to use the NMI metric to measure the quality/performance of the clustering \n",
    "    score = accuracy_score(y_test, preds)\n",
    "    print(\"Score:\", score)\n",
    "    scores.append(score)\n",
    "    \n",
    "# Compute average score\n",
    "averageAccuracy = sum(scores)/len(scores)\n",
    "print(\"\\n\\nAverage Accuracy: \", averageAccuracy)\n",
    "\n",
    "# Finally, check out the total time taken\n",
    "end = time.time()\n",
    "timeTaken = end-start\n",
    "print(\"\\n\\nTotal Time Required (in seconds): \", timeTaken)"
   ]
  },
  {
   "cell_type": "code",
   "execution_count": 8,
   "metadata": {},
   "outputs": [
    {
     "data": {
      "text/plain": [
       "{'num_classes': 2,\n",
       " 'start': 1648189595.5561643,\n",
       " 'seed': 27,\n",
       " 'noOfFeaturesSelected': 5,\n",
       " 'end': 1648189599.3610919,\n",
       " 'timeTaken': 3.8049275875091553}"
      ]
     },
     "execution_count": 8,
     "metadata": {},
     "output_type": "execute_result"
    }
   ],
   "source": [
    "#end the tracking scope of variables\n",
    "V.end()"
   ]
  },
  {
   "cell_type": "code",
   "execution_count": 9,
   "metadata": {},
   "outputs": [
    {
     "data": {
      "image/png": "[encoded data removed]",
      "text/plain": [
       "<Figure size 800x2000 with 1 Axes>"
      ]
     },
     "metadata": {
      "needs_background": "light"
     },
     "output_type": "display_data"
    }
   ],
   "source": [
    "figure(figsize=(8, 20), dpi=100)\n",
    "model.feature_importance()"
   ]
  },
  {
   "cell_type": "code",
   "execution_count": 10,
   "metadata": {},
   "outputs": [
    {
     "name": "stdout",
     "output_type": "stream",
     "text": [
      "Dumped the experiment in the file vevesta.xlsx\n",
      "Manage notes, codes and models in one single place by using our tool at https://www.vevesta.com?utm_source=vevestaX\n"
     ]
    }
   ],
   "source": [
    "V.dump(techniqueUsed = \"Decision tree with FRUFS\",message= \"5 selected features were used\", version=1)"
   ]
  },
  {
   "cell_type": "code",
   "execution_count": null,
   "metadata": {},
   "outputs": [],
   "source": []
  }
 ],
 "metadata": {
  "kernelspec": {
   "display_name": "Python [conda env:vevesta] *",
   "language": "python",
   "name": "conda-env-vevesta-py"
  },
  "language_info": {
   "codemirror_mode": {
    "name": "ipython",
    "version": 3
   },
   "file_extension": ".py",
   "mimetype": "text/x-python",
   "name": "python",
   "nbconvert_exporter": "python",
   "pygments_lexer": "ipython3",
   "version": "3.8.8"
  }
 },
 "nbformat": 4,
 "nbformat_minor": 4
}
